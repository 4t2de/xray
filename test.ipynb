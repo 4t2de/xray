{
 "cells": [
  {
   "cell_type": "code",
   "execution_count": 22,
   "id": "a56a61fa-19c0-4fe7-8420-d967de2551ca",
   "metadata": {},
   "outputs": [],
   "source": [
    "import os\n",
    "import torch\n",
    "from torch import nn\n",
    "from torch.utils.data import Dataset, DataLoader\n",
    "from torchvision import transforms\n",
    "from PIL import Image\n",
    "import numpy as np\n",
    "import pandas as pd\n",
    "from tqdm import tqdm\n",
    "from scipy.spatial.distance import mahalanobis\n",
    "import matplotlib.pyplot as plt"
   ]
  },
  {
   "cell_type": "code",
   "execution_count": 17,
   "id": "c013aadd-4f49-426b-b288-b8c9de58e92c",
   "metadata": {},
   "outputs": [
    {
     "name": "stdout",
     "output_type": "stream",
     "text": [
      "cpu\n"
     ]
    }
   ],
   "source": [
    "device = \"cuda\" if torch.cuda.is_available() else \"cpu\"\n",
    "img_size = 128\n",
    "latent_dim = 128\n",
    "batch_size = 128\n",
    "model_path = \"vae_final.pt\"\n",
    "test_root = r\"D:\\projects\\xray\\test\"\n",
    "output_csv = \"anomaly_scores.csv\"\n",
    "print(device)"
   ]
  },
  {
   "cell_type": "code",
   "execution_count": 18,
   "id": "881ae6a6-597a-49ea-ae36-c9d12915e3b7",
   "metadata": {},
   "outputs": [],
   "source": [
    "class UnlabeledImageDataset(Dataset):\n",
    "    def __init__(self, root_dir, transform=None):\n",
    "        self.root_dir = root_dir\n",
    "        self.transform = transform\n",
    "        self.image_paths = [\n",
    "            os.path.join(dp, f)\n",
    "            for dp, dn, filenames in os.walk(root_dir)\n",
    "            for f in filenames if f.lower().endswith(('.png', '.jpg', '.jpeg'))\n",
    "        ]\n",
    "    def __len__(self):\n",
    "        return len(self.image_paths)\n",
    "    def __getitem__(self, idx):\n",
    "        img_path = self.image_paths[idx]\n",
    "        image = Image.open(img_path).convert(\"RGB\")\n",
    "        if self.transform:\n",
    "            image = self.transform(image)\n",
    "        return image, img_path\n",
    "\n",
    "transform = transforms.Compose([\n",
    "    transforms.Resize((img_size, img_size)),\n",
    "    transforms.ToTensor(),\n",
    "])\n",
    "\n",
    "test_dataset = UnlabeledImageDataset(test_root, transform)\n",
    "test_loader = DataLoader(test_dataset, batch_size=batch_size, shuffle=False)"
   ]
  },
  {
   "cell_type": "code",
   "execution_count": 19,
   "id": "654bd21c-24db-4435-8737-7a8746e0722f",
   "metadata": {},
   "outputs": [],
   "source": [
    "class VAE(nn.Module):\n",
    "    def __init__(self, latent_dim):\n",
    "        super(VAE, self).__init__()\n",
    "        self.encoder = nn.Sequential(\n",
    "            nn.Conv2d(3, 32, 4, 2, 1), nn.ReLU(True),\n",
    "            nn.Conv2d(32, 64, 4, 2, 1), nn.ReLU(True),\n",
    "            nn.Conv2d(64, 128, 4, 2, 1), nn.ReLU(True),\n",
    "            nn.Conv2d(128, 256, 4, 2, 1), nn.ReLU(True)\n",
    "        )\n",
    "        self.fc_mu = nn.Linear(256 * 8 * 8, latent_dim)\n",
    "        self.fc_logvar = nn.Linear(256 * 8 * 8, latent_dim)\n",
    "        self.fc_decode = nn.Linear(latent_dim, 256 * 8 * 8)\n",
    "        self.decoder = nn.Sequential(\n",
    "            nn.ConvTranspose2d(256, 128, 4, 2, 1), nn.ReLU(True),\n",
    "            nn.ConvTranspose2d(128, 64, 4, 2, 1), nn.ReLU(True),\n",
    "            nn.ConvTranspose2d(64, 32, 4, 2, 1), nn.ReLU(True),\n",
    "            nn.ConvTranspose2d(32, 3, 4, 2, 1), nn.Sigmoid()\n",
    "        )\n",
    "    def encode(self, x):\n",
    "        x = self.encoder(x)\n",
    "        x = x.view(x.size(0), -1)\n",
    "        mu = self.fc_mu(x)\n",
    "        logvar = self.fc_logvar(x)\n",
    "        return mu, logvar\n",
    "    def reparameterize(self, mu, logvar):\n",
    "        std = torch.exp(0.5 * logvar)\n",
    "        eps = torch.randn_like(std)\n",
    "        return mu + eps * std\n",
    "    def decode(self, z):\n",
    "        x = self.fc_decode(z)\n",
    "        x = x.view(-1, 256, 8, 8)\n",
    "        return self.decoder(x)\n",
    "    def forward(self, x):\n",
    "        mu, logvar = self.encode(x)\n",
    "        z = self.reparameterize(mu, logvar)\n",
    "        recon = self.decode(z)\n",
    "        return recon, mu, logvar"
   ]
  },
  {
   "cell_type": "code",
   "execution_count": 20,
   "id": "b4e2529f-e4bb-4bc3-a108-cd046ad4fedc",
   "metadata": {},
   "outputs": [
    {
     "data": {
      "text/plain": [
       "VAE(\n",
       "  (encoder): Sequential(\n",
       "    (0): Conv2d(3, 32, kernel_size=(4, 4), stride=(2, 2), padding=(1, 1))\n",
       "    (1): ReLU(inplace=True)\n",
       "    (2): Conv2d(32, 64, kernel_size=(4, 4), stride=(2, 2), padding=(1, 1))\n",
       "    (3): ReLU(inplace=True)\n",
       "    (4): Conv2d(64, 128, kernel_size=(4, 4), stride=(2, 2), padding=(1, 1))\n",
       "    (5): ReLU(inplace=True)\n",
       "    (6): Conv2d(128, 256, kernel_size=(4, 4), stride=(2, 2), padding=(1, 1))\n",
       "    (7): ReLU(inplace=True)\n",
       "  )\n",
       "  (fc_mu): Linear(in_features=16384, out_features=128, bias=True)\n",
       "  (fc_logvar): Linear(in_features=16384, out_features=128, bias=True)\n",
       "  (fc_decode): Linear(in_features=128, out_features=16384, bias=True)\n",
       "  (decoder): Sequential(\n",
       "    (0): ConvTranspose2d(256, 128, kernel_size=(4, 4), stride=(2, 2), padding=(1, 1))\n",
       "    (1): ReLU(inplace=True)\n",
       "    (2): ConvTranspose2d(128, 64, kernel_size=(4, 4), stride=(2, 2), padding=(1, 1))\n",
       "    (3): ReLU(inplace=True)\n",
       "    (4): ConvTranspose2d(64, 32, kernel_size=(4, 4), stride=(2, 2), padding=(1, 1))\n",
       "    (5): ReLU(inplace=True)\n",
       "    (6): ConvTranspose2d(32, 3, kernel_size=(4, 4), stride=(2, 2), padding=(1, 1))\n",
       "    (7): Sigmoid()\n",
       "  )\n",
       ")"
      ]
     },
     "execution_count": 20,
     "metadata": {},
     "output_type": "execute_result"
    }
   ],
   "source": [
    "model = VAE(latent_dim).to(device)\n",
    "model.load_state_dict(torch.load(model_path, map_location=device))\n",
    "model.eval()"
   ]
  },
  {
   "cell_type": "code",
   "execution_count": 21,
   "id": "8a16d751-ad66-41cb-a759-7b25327da8b7",
   "metadata": {},
   "outputs": [
    {
     "name": "stderr",
     "output_type": "stream",
     "text": [
      "Testing: 100%|█████████████████████████████████████████████████████████████████████████| 34/34 [00:38<00:00,  1.13s/it]\n",
      "Mahalanobis: 100%|███████████████████████████████████████████████████████████████| 4324/4324 [00:00<00:00, 9386.49it/s]\n"
     ]
    }
   ],
   "source": [
    "all_paths, recon_errors, mahal_scores = [], [], []\n",
    "latents = []\n",
    "\n",
    "with torch.no_grad():\n",
    "    for imgs, paths in tqdm(test_loader, desc=\"Testing\"):\n",
    "        imgs = imgs.to(device)\n",
    "        recon, mu, logvar = model(imgs)\n",
    "        loss = torch.mean((recon - imgs) ** 2, dim=[1, 2, 3])\n",
    "        recon_errors.extend(loss.cpu().numpy())\n",
    "        latents.append(mu.cpu().numpy())\n",
    "        all_paths.extend(paths)\n",
    "\n",
    "latents = np.concatenate(latents, axis=0)\n",
    "cov = np.cov(latents, rowvar=False)\n",
    "inv_cov = np.linalg.pinv(cov)\n",
    "mean_latent = np.mean(latents, axis=0)\n",
    "\n",
    "for z in tqdm(latents, desc=\"Mahalanobis\"):\n",
    "    m = mahalanobis(z, mean_latent, inv_cov)\n",
    "    mahal_scores.append(m)"
   ]
  },
  {
   "cell_type": "code",
   "execution_count": 27,
   "id": "c258d7c0-6304-4053-9848-fe3682cf5d3d",
   "metadata": {},
   "outputs": [
    {
     "name": "stdout",
     "output_type": "stream",
     "text": [
      "Saved anomaly scores to anomaly_scores.csv\n",
      "Top anomalies saved to top_anomalies\n"
     ]
    }
   ],
   "source": [
    "df = pd.DataFrame({\n",
    "    \"image_path\": all_paths,\n",
    "    \"reconstruction_error\": recon_errors,\n",
    "    \"mahalanobis_distance\": mahal_scores\n",
    "})\n",
    "df[\"combined_score\"] = df[\"reconstruction_error\"] + 0.01 * df[\"mahalanobis_distance\"]\n",
    "df.sort_values(\"combined_score\", ascending=False, inplace=True)\n",
    "df.to_csv(output_csv, index=False)\n",
    "\n",
    "top_dir = \"top_anomalies\"\n",
    "os.makedirs(top_dir, exist_ok=True)\n",
    "for i, row in df.head(20).iterrows():\n",
    "    name = os.path.basename(row[\"image_path\"])\n",
    "    dest = os.path.join(top_dir, f\"{i:03d}_{name}\")\n",
    "    os.makedirs(os.path.dirname(dest), exist_ok=True)\n",
    "    try:\n",
    "        Image.open(row[\"image_path\"]).save(dest)\n",
    "    except:\n",
    "        continue\n",
    "\n",
    "print(\"Saved anomaly scores to\", output_csv)\n",
    "print(\"Top anomalies saved to\", top_dir)"
   ]
  },
  {
   "cell_type": "code",
   "execution_count": 28,
   "id": "23ac26cb-6a20-48bc-8c91-e984f057d2ae",
   "metadata": {},
   "outputs": [
    {
     "data": {
      "image/png": "[encoded data removed]",
      "text/plain": [
       "<Figure size 640x480 with 1 Axes>"
      ]
     },
     "metadata": {},
     "output_type": "display_data"
    },
    {
     "name": "stdout",
     "output_type": "stream",
     "text": [
      "Threshold (95th percentile): 0.012001517321914405\n"
     ]
    }
   ],
   "source": [
    "model.eval()\n",
    "reconstruction_errors = []\n",
    "\n",
    "with torch.no_grad():\n",
    "    for images, _ in test_loader:\n",
    "        images = images.to(device)\n",
    "        recon_images, _, _ = model(images)\n",
    "        errors = torch.mean((images - recon_images) ** 2, dim=[1, 2, 3])\n",
    "        reconstruction_errors.extend(errors.cpu().numpy())\n",
    "\n",
    "reconstruction_errors = np.array(reconstruction_errors)\n",
    "\n",
    "plt.hist(reconstruction_errors, bins=50)\n",
    "plt.xlabel(\"Reconstruction Error\")\n",
    "plt.ylabel(\"Count\")\n",
    "plt.title(\"Distribution of Reconstruction Errors\")\n",
    "plt.show()\n",
    "\n",
    "threshold = np.percentile(reconstruction_errors, 95)\n",
    "print(\"Threshold (95th percentile):\", threshold)"
   ]
  },
  {
   "cell_type": "code",
   "execution_count": null,
   "id": "1b00ef16-d8d6-4f24-b661-665dd0396f9e",
   "metadata": {},
   "outputs": [],
   "source": []
  }
 ],
 "metadata": {
  "kernelspec": {
   "display_name": "Python 3 (ipykernel)",
   "language": "python",
   "name": "python3"
  },
  "language_info": {
   "codemirror_mode": {
    "name": "ipython",
    "version": 3
   },
   "file_extension": ".py",
   "mimetype": "text/x-python",
   "name": "python",
   "nbconvert_exporter": "python",
   "pygments_lexer": "ipython3",
   "version": "3.12.6"
  }
 },
 "nbformat": 4,
 "nbformat_minor": 5
}
